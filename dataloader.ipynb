{
 "cells": [
  {
   "cell_type": "code",
   "execution_count": 1,
   "id": "b54e37ae",
   "metadata": {},
   "outputs": [
    {
     "name": "stderr",
     "output_type": "stream",
     "text": [
      "c:\\Users\\bahawalkhan\\Anaconda3\\envs\\yolo\\lib\\site-packages\\numpy\\_distributor_init.py:30: UserWarning: loaded more than 1 DLL from .libs:\n",
      "c:\\Users\\bahawalkhan\\Anaconda3\\envs\\yolo\\lib\\site-packages\\numpy\\.libs\\libopenblas.FB5AE2TYXYH2IJRDKGDGQ3XBKLKTF43H.gfortran-win_amd64.dll\n",
      "c:\\Users\\bahawalkhan\\Anaconda3\\envs\\yolo\\lib\\site-packages\\numpy\\.libs\\libopenblas.GK7GX5KEQ4F6UYO3P26ULGBQYHGQO7J4.gfortran-win_amd64.dll\n",
      "  warnings.warn(\"loaded more than 1 DLL from .libs:\"\n",
      "c:\\Users\\bahawalkhan\\Anaconda3\\envs\\yolo\\lib\\site-packages\\tqdm\\auto.py:22: TqdmWarning: IProgress not found. Please update jupyter and ipywidgets. See https://ipywidgets.readthedocs.io/en/stable/user_install.html\n",
      "  from .autonotebook import tqdm as notebook_tqdm\n"
     ]
    },
    {
     "name": "stdout",
     "output_type": "stream",
     "text": [
      "using Transformer_type: vit_base_patch16_224_TransReID as a backbone\n",
      "using stride: [14, 14], and part number is num_y18 * num_x18\n",
      "using drop_path_rate is : 0.1\n",
      "using aie_xishu is : 2.5\n",
      "Loading finetune model......from model-weights/transformer_40.pth\n",
      "===========building transformer===========\n",
      "base.cls_token\n",
      "base.pos_embed\n",
      "base.patch_embed.proj.weight\n",
      "base.patch_embed.proj.bias\n",
      "base.blocks.0.norm1.weight\n",
      "base.blocks.0.norm1.bias\n",
      "base.blocks.0.attn.qkv.weight\n",
      "base.blocks.0.attn.qkv.bias\n",
      "base.blocks.0.attn.proj.weight\n",
      "base.blocks.0.attn.proj.bias\n",
      "base.blocks.0.norm2.weight\n",
      "base.blocks.0.norm2.bias\n",
      "base.blocks.0.mlp.fc1.weight\n",
      "base.blocks.0.mlp.fc1.bias\n",
      "base.blocks.0.mlp.fc2.weight\n",
      "base.blocks.0.mlp.fc2.bias\n",
      "base.blocks.1.norm1.weight\n",
      "base.blocks.1.norm1.bias\n",
      "base.blocks.1.attn.qkv.weight\n",
      "base.blocks.1.attn.qkv.bias\n",
      "base.blocks.1.attn.proj.weight\n",
      "base.blocks.1.attn.proj.bias\n",
      "base.blocks.1.norm2.weight\n",
      "base.blocks.1.norm2.bias\n",
      "base.blocks.1.mlp.fc1.weight\n",
      "base.blocks.1.mlp.fc1.bias\n",
      "base.blocks.1.mlp.fc2.weight\n",
      "base.blocks.1.mlp.fc2.bias\n",
      "base.blocks.2.norm1.weight\n",
      "base.blocks.2.norm1.bias\n",
      "base.blocks.2.attn.qkv.weight\n",
      "base.blocks.2.attn.qkv.bias\n",
      "base.blocks.2.attn.proj.weight\n",
      "base.blocks.2.attn.proj.bias\n",
      "base.blocks.2.norm2.weight\n",
      "base.blocks.2.norm2.bias\n",
      "base.blocks.2.mlp.fc1.weight\n",
      "base.blocks.2.mlp.fc1.bias\n",
      "base.blocks.2.mlp.fc2.weight\n",
      "base.blocks.2.mlp.fc2.bias\n",
      "base.blocks.3.norm1.weight\n",
      "base.blocks.3.norm1.bias\n",
      "base.blocks.3.attn.qkv.weight\n",
      "base.blocks.3.attn.qkv.bias\n",
      "base.blocks.3.attn.proj.weight\n",
      "base.blocks.3.attn.proj.bias\n",
      "base.blocks.3.norm2.weight\n",
      "base.blocks.3.norm2.bias\n",
      "base.blocks.3.mlp.fc1.weight\n",
      "base.blocks.3.mlp.fc1.bias\n",
      "base.blocks.3.mlp.fc2.weight\n",
      "base.blocks.3.mlp.fc2.bias\n",
      "base.blocks.4.norm1.weight\n",
      "base.blocks.4.norm1.bias\n",
      "base.blocks.4.attn.qkv.weight\n",
      "base.blocks.4.attn.qkv.bias\n",
      "base.blocks.4.attn.proj.weight\n",
      "base.blocks.4.attn.proj.bias\n",
      "base.blocks.4.norm2.weight\n",
      "base.blocks.4.norm2.bias\n",
      "base.blocks.4.mlp.fc1.weight\n",
      "base.blocks.4.mlp.fc1.bias\n",
      "base.blocks.4.mlp.fc2.weight\n",
      "base.blocks.4.mlp.fc2.bias\n",
      "base.blocks.5.norm1.weight\n",
      "base.blocks.5.norm1.bias\n",
      "base.blocks.5.attn.qkv.weight\n",
      "base.blocks.5.attn.qkv.bias\n",
      "base.blocks.5.attn.proj.weight\n",
      "base.blocks.5.attn.proj.bias\n",
      "base.blocks.5.norm2.weight\n",
      "base.blocks.5.norm2.bias\n",
      "base.blocks.5.mlp.fc1.weight\n",
      "base.blocks.5.mlp.fc1.bias\n",
      "base.blocks.5.mlp.fc2.weight\n",
      "base.blocks.5.mlp.fc2.bias\n",
      "base.blocks.6.norm1.weight\n",
      "base.blocks.6.norm1.bias\n",
      "base.blocks.6.attn.qkv.weight\n",
      "base.blocks.6.attn.qkv.bias\n",
      "base.blocks.6.attn.proj.weight\n",
      "base.blocks.6.attn.proj.bias\n",
      "base.blocks.6.norm2.weight\n",
      "base.blocks.6.norm2.bias\n",
      "base.blocks.6.mlp.fc1.weight\n",
      "base.blocks.6.mlp.fc1.bias\n",
      "base.blocks.6.mlp.fc2.weight\n",
      "base.blocks.6.mlp.fc2.bias\n",
      "base.blocks.7.norm1.weight\n",
      "base.blocks.7.norm1.bias\n",
      "base.blocks.7.attn.qkv.weight\n",
      "base.blocks.7.attn.qkv.bias\n",
      "base.blocks.7.attn.proj.weight\n",
      "base.blocks.7.attn.proj.bias\n",
      "base.blocks.7.norm2.weight\n",
      "base.blocks.7.norm2.bias\n",
      "base.blocks.7.mlp.fc1.weight\n",
      "base.blocks.7.mlp.fc1.bias\n",
      "base.blocks.7.mlp.fc2.weight\n",
      "base.blocks.7.mlp.fc2.bias\n",
      "base.blocks.8.norm1.weight\n",
      "base.blocks.8.norm1.bias\n",
      "base.blocks.8.attn.qkv.weight\n",
      "base.blocks.8.attn.qkv.bias\n",
      "base.blocks.8.attn.proj.weight\n",
      "base.blocks.8.attn.proj.bias\n",
      "base.blocks.8.norm2.weight\n",
      "base.blocks.8.norm2.bias\n",
      "base.blocks.8.mlp.fc1.weight\n",
      "base.blocks.8.mlp.fc1.bias\n",
      "base.blocks.8.mlp.fc2.weight\n",
      "base.blocks.8.mlp.fc2.bias\n",
      "base.blocks.9.norm1.weight\n",
      "base.blocks.9.norm1.bias\n",
      "base.blocks.9.attn.qkv.weight\n",
      "base.blocks.9.attn.qkv.bias\n",
      "base.blocks.9.attn.proj.weight\n",
      "base.blocks.9.attn.proj.bias\n",
      "base.blocks.9.norm2.weight\n",
      "base.blocks.9.norm2.bias\n",
      "base.blocks.9.mlp.fc1.weight\n",
      "base.blocks.9.mlp.fc1.bias\n",
      "base.blocks.9.mlp.fc2.weight\n",
      "base.blocks.9.mlp.fc2.bias\n",
      "base.blocks.10.norm1.weight\n",
      "base.blocks.10.norm1.bias\n",
      "base.blocks.10.attn.qkv.weight\n",
      "base.blocks.10.attn.qkv.bias\n",
      "base.blocks.10.attn.proj.weight\n",
      "base.blocks.10.attn.proj.bias\n",
      "base.blocks.10.norm2.weight\n",
      "base.blocks.10.norm2.bias\n",
      "base.blocks.10.mlp.fc1.weight\n",
      "base.blocks.10.mlp.fc1.bias\n",
      "base.blocks.10.mlp.fc2.weight\n",
      "base.blocks.10.mlp.fc2.bias\n",
      "base.blocks.11.norm1.weight\n",
      "base.blocks.11.norm1.bias\n",
      "base.blocks.11.attn.qkv.weight\n",
      "base.blocks.11.attn.qkv.bias\n",
      "base.blocks.11.attn.proj.weight\n",
      "base.blocks.11.attn.proj.bias\n",
      "base.blocks.11.norm2.weight\n",
      "base.blocks.11.norm2.bias\n",
      "base.blocks.11.mlp.fc1.weight\n",
      "base.blocks.11.mlp.fc1.bias\n",
      "base.blocks.11.mlp.fc2.weight\n",
      "base.blocks.11.mlp.fc2.bias\n",
      "base.norm.weight\n",
      "base.norm.bias\n",
      "base.fc.weight\n",
      "base.fc.bias\n",
      "bottleneck.weight\n",
      "bottleneck.bias\n",
      "bottleneck.running_mean\n",
      "bottleneck.running_var\n",
      "bottleneck.num_batches_tracked\n",
      "Loading pretrained model from model-weights/transformer_40.pth\n"
     ]
    }
   ],
   "source": [
    "from load_model import get_reid_embeddings"
   ]
  },
  {
   "cell_type": "code",
   "execution_count": 2,
   "id": "9a507b25",
   "metadata": {},
   "outputs": [],
   "source": [
    "import os\n",
    "import cv2\n",
    "import numpy as np"
   ]
  },
  {
   "cell_type": "code",
   "execution_count": 3,
   "id": "b7768de2",
   "metadata": {},
   "outputs": [],
   "source": [
    "base_dir = 'balanced_data'\n",
    "mode = 'train'"
   ]
  },
  {
   "cell_type": "code",
   "execution_count": 4,
   "id": "3e81d668",
   "metadata": {},
   "outputs": [],
   "source": [
    "def get_cars():\n",
    "    return [x for x in os.listdir(base_dir) if (os.path.isdir(f\"{base_dir}/{x}\" )) ]\n"
   ]
  },
  {
   "cell_type": "code",
   "execution_count": 5,
   "id": "651fa62e",
   "metadata": {},
   "outputs": [
    {
     "data": {
      "text/plain": [
       "['0001',\n",
       " '0002',\n",
       " '0003',\n",
       " '0004',\n",
       " '0005',\n",
       " '0006',\n",
       " '0007',\n",
       " '0008',\n",
       " '0009',\n",
       " '0010',\n",
       " '0011',\n",
       " '0012',\n",
       " '0013',\n",
       " '0014',\n",
       " '0015',\n",
       " '0016',\n",
       " '0017',\n",
       " '0018',\n",
       " '0019',\n",
       " '0020',\n",
       " '0021',\n",
       " '0022',\n",
       " '0023',\n",
       " '0024',\n",
       " '0025',\n",
       " '0026',\n",
       " '0027',\n",
       " '0028',\n",
       " '0029',\n",
       " '0030',\n",
       " '0031',\n",
       " '0032',\n",
       " '0033',\n",
       " '0034',\n",
       " '0035',\n",
       " '0036',\n",
       " '0037',\n",
       " '0038',\n",
       " '0039',\n",
       " '0040',\n",
       " '0041',\n",
       " '0042',\n",
       " '0043',\n",
       " '0044',\n",
       " '0045',\n",
       " '0046',\n",
       " '0047',\n",
       " '0048',\n",
       " '0049',\n",
       " '0050',\n",
       " '0051',\n",
       " '0052',\n",
       " '0053',\n",
       " '0054',\n",
       " '0055',\n",
       " '0056',\n",
       " '0057',\n",
       " '0058',\n",
       " '0059',\n",
       " '0060',\n",
       " '0061',\n",
       " '0062',\n",
       " '0063',\n",
       " '0064',\n",
       " '0065',\n",
       " '0066',\n",
       " '0067',\n",
       " '0078',\n",
       " '0079',\n",
       " '0080',\n",
       " '0081',\n",
       " '0082',\n",
       " '0083',\n",
       " '0084',\n",
       " '0085',\n",
       " '0086',\n",
       " '0087',\n",
       " '0088',\n",
       " '0089',\n",
       " '0090',\n",
       " '0091',\n",
       " '0092',\n",
       " '0093',\n",
       " '0094',\n",
       " '0095',\n",
       " '0096',\n",
       " '0097',\n",
       " '0098',\n",
       " '0099',\n",
       " '0100',\n",
       " '0101',\n",
       " '0102',\n",
       " '0103',\n",
       " '0104',\n",
       " '0105',\n",
       " '0106',\n",
       " '0107',\n",
       " '0108',\n",
       " '0109',\n",
       " '0110',\n",
       " '0111',\n",
       " '0112',\n",
       " '0113',\n",
       " '0114',\n",
       " '0115',\n",
       " '0116',\n",
       " '0117',\n",
       " '0118',\n",
       " '0119',\n",
       " '0120',\n",
       " '0121',\n",
       " '0122',\n",
       " '0123',\n",
       " '0124',\n",
       " '0125',\n",
       " '0126',\n",
       " '0127',\n",
       " '0128',\n",
       " '0129',\n",
       " '0130',\n",
       " '0131',\n",
       " '0132',\n",
       " '0133',\n",
       " '0134',\n",
       " '0135',\n",
       " '0136',\n",
       " '0137',\n",
       " '0138',\n",
       " '0139',\n",
       " '0140',\n",
       " '0141',\n",
       " '0142',\n",
       " '0143',\n",
       " '0144',\n",
       " '0145',\n",
       " '0146',\n",
       " '0147',\n",
       " '0148',\n",
       " '0149',\n",
       " '0150',\n",
       " '0151',\n",
       " '0152',\n",
       " '0153',\n",
       " '0154',\n",
       " '0155',\n",
       " '0156',\n",
       " '0157',\n",
       " '0158',\n",
       " '0159',\n",
       " '0160',\n",
       " '0161',\n",
       " '0162',\n",
       " '0163',\n",
       " '0164',\n",
       " '0165',\n",
       " '0166',\n",
       " '0167',\n",
       " '0168',\n",
       " '0169',\n",
       " '0170',\n",
       " '0171',\n",
       " '0172',\n",
       " '0173',\n",
       " '0174',\n",
       " '0175',\n",
       " '0176',\n",
       " '0177',\n",
       " '0178',\n",
       " '0179',\n",
       " '0180',\n",
       " '0181',\n",
       " '0182',\n",
       " '0183',\n",
       " '0184',\n",
       " '0185',\n",
       " '0186',\n",
       " '0187',\n",
       " '0188',\n",
       " '0189',\n",
       " '0190',\n",
       " '0191',\n",
       " '0192',\n",
       " '0193',\n",
       " '0194',\n",
       " '0195',\n",
       " '0196',\n",
       " '0197',\n",
       " '0198',\n",
       " '0199',\n",
       " '0200',\n",
       " '0201',\n",
       " '0202',\n",
       " '0203',\n",
       " '0204',\n",
       " '0205',\n",
       " '0206',\n",
       " '0207',\n",
       " '0208',\n",
       " '0209',\n",
       " '0210',\n",
       " '0211',\n",
       " '0212',\n",
       " '0213',\n",
       " '0214',\n",
       " '0215',\n",
       " '0216',\n",
       " '0217',\n",
       " '0218',\n",
       " '0219',\n",
       " '0220',\n",
       " '0221',\n",
       " '0222',\n",
       " '0223',\n",
       " '0224',\n",
       " '0225',\n",
       " '0226',\n",
       " '0227',\n",
       " '0228',\n",
       " '0229',\n",
       " '0230',\n",
       " '0231',\n",
       " '0232',\n",
       " '0233',\n",
       " '0234',\n",
       " '0235',\n",
       " '0236',\n",
       " '0237',\n",
       " '0238',\n",
       " '0239',\n",
       " '0240',\n",
       " '0241',\n",
       " '0242',\n",
       " '0243',\n",
       " '0244',\n",
       " '0245',\n",
       " '0246',\n",
       " '0247',\n",
       " '0248',\n",
       " '0249',\n",
       " '0250',\n",
       " '0251',\n",
       " '0252',\n",
       " '0253',\n",
       " '0254',\n",
       " '0255',\n",
       " '0256',\n",
       " '0257',\n",
       " '0258',\n",
       " '0259',\n",
       " '0260',\n",
       " '0261',\n",
       " '0262',\n",
       " '0263',\n",
       " '0264',\n",
       " '0265',\n",
       " '0266',\n",
       " '0267',\n",
       " '0268',\n",
       " '0269',\n",
       " '0270',\n",
       " '0271',\n",
       " '0272',\n",
       " '0273',\n",
       " '0274',\n",
       " '0275',\n",
       " '0276',\n",
       " '0277',\n",
       " '0278',\n",
       " '0279',\n",
       " '0280',\n",
       " '0281',\n",
       " '0282',\n",
       " '0283',\n",
       " '0284',\n",
       " '0285',\n",
       " '0286',\n",
       " '0287',\n",
       " '0288',\n",
       " '0289',\n",
       " '0290',\n",
       " '0291',\n",
       " '0292',\n",
       " '0293',\n",
       " '0294',\n",
       " '0295',\n",
       " '0296',\n",
       " '0297',\n",
       " '0298',\n",
       " '0299',\n",
       " '0300',\n",
       " '0301',\n",
       " '0302',\n",
       " '0303',\n",
       " '0304',\n",
       " '0305',\n",
       " '0306',\n",
       " '0307',\n",
       " '0308',\n",
       " '0309',\n",
       " '0310',\n",
       " '0311',\n",
       " '0312',\n",
       " '0313',\n",
       " '0314',\n",
       " '0315',\n",
       " '0316',\n",
       " '0317',\n",
       " '0318',\n",
       " '0319',\n",
       " '0320',\n",
       " '0321',\n",
       " '0322',\n",
       " '0323',\n",
       " '0324',\n",
       " '0325',\n",
       " '0326',\n",
       " '0327',\n",
       " '0328',\n",
       " '0329',\n",
       " '0330',\n",
       " '0331',\n",
       " '0332',\n",
       " '0333',\n",
       " '0334',\n",
       " '0335',\n",
       " '0336',\n",
       " '0337',\n",
       " '0338',\n",
       " '0339',\n",
       " '0340',\n",
       " '0341',\n",
       " '0342',\n",
       " '0343',\n",
       " '0344',\n",
       " '0345',\n",
       " '0346',\n",
       " '0347',\n",
       " '0348',\n",
       " '0349',\n",
       " '0350',\n",
       " '0351',\n",
       " '0352',\n",
       " '0353',\n",
       " '0354',\n",
       " '0355',\n",
       " '0356',\n",
       " '0357',\n",
       " '0358',\n",
       " '0359',\n",
       " '0360',\n",
       " '0361',\n",
       " '0362',\n",
       " '0363',\n",
       " '0364',\n",
       " '0365',\n",
       " '0366',\n",
       " '0367',\n",
       " '0368',\n",
       " '0369',\n",
       " '0370',\n",
       " '0371',\n",
       " '0372',\n",
       " '0373',\n",
       " '0374',\n",
       " '0375',\n",
       " '0376',\n",
       " '0377',\n",
       " '0378',\n",
       " '0379',\n",
       " '0380',\n",
       " 'alfa_white',\n",
       " 'ambulance',\n",
       " 'banana',\n",
       " 'black_f1',\n",
       " 'black_yellow',\n",
       " 'blue',\n",
       " 'blue_tesla',\n",
       " 'car1',\n",
       " 'car2',\n",
       " 'car3',\n",
       " 'car6',\n",
       " 'car7',\n",
       " 'car8',\n",
       " 'darkblue',\n",
       " 'gray_alfa',\n",
       " 'green_blue',\n",
       " 'maroon',\n",
       " 'maroon_simple',\n",
       " 'maroon_white',\n",
       " 'orange',\n",
       " 'red',\n",
       " 'red2',\n",
       " 'red3',\n",
       " 'Red_Alfa_Giulia',\n",
       " 'red_f1',\n",
       " 'red_ferrari',\n",
       " 'red_white_f1',\n",
       " 'sea_green_design',\n",
       " 'truck',\n",
       " 'yellow',\n",
       " 'yellow_black',\n",
       " 'yellow_blue']"
      ]
     },
     "execution_count": 5,
     "metadata": {},
     "output_type": "execute_result"
    }
   ],
   "source": [
    "get_cars()"
   ]
  },
  {
   "cell_type": "code",
   "execution_count": 6,
   "id": "a963ecfd",
   "metadata": {},
   "outputs": [],
   "source": [
    "from tqdm import tqdm"
   ]
  },
  {
   "cell_type": "code",
   "execution_count": 7,
   "id": "37a75a1b",
   "metadata": {},
   "outputs": [],
   "source": [
    "import random\n",
    "imgs = []\n",
    "for source_dir in get_cars():\n",
    "    source_dir_path = f'{base_dir}/{source_dir}'\n",
    "    my_list = os.listdir(source_dir_path)\n",
    "    imgs.extend([source_dir +'-'+ x for x in my_list])\n",
    "                         "
   ]
  },
  {
   "cell_type": "code",
   "execution_count": 8,
   "id": "ed800bc9",
   "metadata": {},
   "outputs": [
    {
     "data": {
      "text/plain": [
       "'0001-003636.jpg'"
      ]
     },
     "execution_count": 8,
     "metadata": {},
     "output_type": "execute_result"
    }
   ],
   "source": [
    "imgs[0]"
   ]
  },
  {
   "cell_type": "code",
   "execution_count": 9,
   "id": "bf2c66c8",
   "metadata": {},
   "outputs": [],
   "source": [
    "import itertools "
   ]
  },
  {
   "cell_type": "code",
   "execution_count": 19,
   "id": "96f36638",
   "metadata": {},
   "outputs": [
    {
     "data": {
      "text/plain": [
       "182376351"
      ]
     },
     "execution_count": 19,
     "metadata": {},
     "output_type": "execute_result"
    }
   ],
   "source": [
    "combinations = list(itertools.combinations(imgs, 2))\n",
    "len(combinations)"
   ]
  },
  {
   "cell_type": "code",
   "execution_count": 20,
   "id": "d3ce724f",
   "metadata": {},
   "outputs": [],
   "source": [
    "same_pair = []\n",
    "diff_pair = []\n",
    "for pair in combinations:\n",
    "    if pair[0].split('-')[0] == pair[1].split('-')[0]:\n",
    "        same_pair.append(pair)\n",
    "    else:\n",
    "        diff_pair.append(pair)"
   ]
  },
  {
   "cell_type": "code",
   "execution_count": 21,
   "id": "cd29954f",
   "metadata": {},
   "outputs": [
    {
     "data": {
      "text/plain": [
       "180204078"
      ]
     },
     "execution_count": 21,
     "metadata": {},
     "output_type": "execute_result"
    }
   ],
   "source": [
    "len(diff_pair)"
   ]
  },
  {
   "cell_type": "code",
   "execution_count": 22,
   "id": "a812eb14",
   "metadata": {},
   "outputs": [
    {
     "data": {
      "text/plain": [
       "2172273"
      ]
     },
     "execution_count": 22,
     "metadata": {},
     "output_type": "execute_result"
    }
   ],
   "source": [
    "len(same_pair)"
   ]
  },
  {
   "cell_type": "code",
   "execution_count": 23,
   "id": "0c83ebfc",
   "metadata": {},
   "outputs": [],
   "source": [
    "chopped_diff_pairs = random.sample(diff_pair, int( len(same_pair)*3))"
   ]
  },
  {
   "cell_type": "code",
   "execution_count": 24,
   "id": "d57153ad",
   "metadata": {},
   "outputs": [
    {
     "data": {
      "text/plain": [
       "6516819"
      ]
     },
     "execution_count": 24,
     "metadata": {},
     "output_type": "execute_result"
    }
   ],
   "source": [
    "len(chopped_diff_pairs)"
   ]
  },
  {
   "cell_type": "code",
   "execution_count": 25,
   "id": "3066148d",
   "metadata": {},
   "outputs": [],
   "source": [
    "new_combined_list = same_pair + chopped_diff_pairs"
   ]
  },
  {
   "cell_type": "code",
   "execution_count": 13,
   "id": "275e5e2d",
   "metadata": {},
   "outputs": [
    {
     "name": "stdout",
     "output_type": "stream",
     "text": [
      "8689092\n"
     ]
    },
    {
     "data": {
      "text/plain": [
       "[('0001-003636.jpg', '0001-003684.jpg'),\n",
       " ('0001-003636.jpg', '0001-006399.jpg'),\n",
       " ('0001-003636.jpg', '0001-006795.jpg'),\n",
       " ('0001-003636.jpg', '0001-010942.jpg'),\n",
       " ('0001-003636.jpg', '0001-012986.jpg')]"
      ]
     },
     "execution_count": 13,
     "metadata": {},
     "output_type": "execute_result"
    }
   ],
   "source": [
    "print(len(new_combined_list))\n",
    "new_combined_list[:5]"
   ]
  },
  {
   "cell_type": "code",
   "execution_count": 11,
   "id": "1b70cdae",
   "metadata": {},
   "outputs": [],
   "source": [
    "import pickle\n",
    "if os.path.exists('data_set.pkl'):\n",
    "  with open(\"data_set.pkl\", \"rb\") as f:\n",
    "    # Load the data from the file\n",
    "    new_combined_list = pickle.load(f)\n",
    "  # assert \"stop\"\n",
    "else:\n",
    "    with open(\"data_set.pkl\", \"wb\") as f:\n",
    "        pickle.dump(new_combined_list, f)"
   ]
  },
  {
   "cell_type": "code",
   "execution_count": 14,
   "id": "529d802d",
   "metadata": {},
   "outputs": [
    {
     "name": "stdout",
     "output_type": "stream",
     "text": [
      "8689092\n"
     ]
    },
    {
     "data": {
      "text/plain": [
       "[('0001-003636.jpg', '0001-003684.jpg'),\n",
       " ('0001-003636.jpg', '0001-006399.jpg'),\n",
       " ('0001-003636.jpg', '0001-006795.jpg'),\n",
       " ('0001-003636.jpg', '0001-010942.jpg'),\n",
       " ('0001-003636.jpg', '0001-012986.jpg')]"
      ]
     },
     "execution_count": 14,
     "metadata": {},
     "output_type": "execute_result"
    }
   ],
   "source": [
    "print(len(new_combined_list))\n",
    "new_combined_list[:5]"
   ]
  },
  {
   "cell_type": "code",
   "execution_count": 15,
   "id": "74480e71",
   "metadata": {},
   "outputs": [
    {
     "data": {
      "text/plain": [
       "19099"
      ]
     },
     "execution_count": 15,
     "metadata": {},
     "output_type": "execute_result"
    }
   ],
   "source": [
    "unique_images = set()\n",
    "for a,b in new_combined_list:\n",
    "    unique_images.add(a)\n",
    "    unique_images.add(b)\n",
    "len(unique_images)"
   ]
  },
  {
   "cell_type": "code",
   "execution_count": 16,
   "id": "8036311e",
   "metadata": {},
   "outputs": [
    {
     "data": {
      "text/plain": [
       "'car3-IMG_4034.MOV_462.jpg'"
      ]
     },
     "execution_count": 16,
     "metadata": {},
     "output_type": "execute_result"
    }
   ],
   "source": [
    "unique_images = list(unique_images)\n",
    "unique_images[0]"
   ]
  },
  {
   "cell_type": "code",
   "execution_count": 17,
   "id": "a8009d7f",
   "metadata": {},
   "outputs": [],
   "source": [
    "from tqdm import tqdm"
   ]
  },
  {
   "cell_type": "code",
   "execution_count": 18,
   "id": "2e14e56b",
   "metadata": {},
   "outputs": [
    {
     "name": "stderr",
     "output_type": "stream",
     "text": [
      "  0%|          | 0/19099 [00:00<?, ?it/s]"
     ]
    },
    {
     "name": "stderr",
     "output_type": "stream",
     "text": [
      " 41%|████▏     | 7895/19099 [04:56<06:05, 30.67it/s]"
     ]
    },
    {
     "name": "stdout",
     "output_type": "stream",
     "text": [
      "count not read balanced_data/alfa_white/green_f1\n"
     ]
    },
    {
     "name": "stderr",
     "output_type": "stream",
     "text": [
      " 56%|█████▌    | 10647/19099 [06:35<04:38, 30.31it/s]"
     ]
    },
    {
     "name": "stdout",
     "output_type": "stream",
     "text": [
      "count not read balanced_data/yellow/desktop.ini\n"
     ]
    },
    {
     "name": "stderr",
     "output_type": "stream",
     "text": [
      "100%|██████████| 19099/19099 [11:40<00:00, 27.25it/s]\n"
     ]
    }
   ],
   "source": [
    "embedding_map = {}\n",
    "for img in tqdm(unique_images):\n",
    "    img_dir,img_name = img.split('-')[0], '-'.join(img.split('-')[1:]) \n",
    "    image = cv2.imread(f\"{base_dir}/{img_dir}/{img_name}\")\n",
    "\n",
    "    try:\n",
    "        embedding_map[img] = get_reid_embeddings(cv2.resize(image,(256,256))/255)\n",
    "    except:\n",
    "        print(f'count not read {base_dir}/{img_dir}/{img_name}')"
   ]
  },
  {
   "cell_type": "code",
   "execution_count": 19,
   "id": "c6fde617",
   "metadata": {},
   "outputs": [
    {
     "name": "stderr",
     "output_type": "stream",
     "text": [
      "  0%|          | 0/8689092 [00:00<?, ?it/s]C:\\Users\\bahawalkhan\\AppData\\Local\\Temp\\ipykernel_4580\\2010863659.py:20: VisibleDeprecationWarning: Creating an ndarray from ragged nested sequences (which is a list-or-tuple of lists-or-tuples-or ndarrays with different lengths or shapes) is deprecated. If you meant to do this, you must specify 'dtype=object' when creating the ndarray.\n",
      "  np.save(f'{base_dir}_embeddings/{count}.npy',np.array([embedding,label]))\n",
      "100%|██████████| 8689092/8689092 [1:11:41<00:00, 2019.87it/s]\n"
     ]
    },
    {
     "ename": "",
     "evalue": "",
     "output_type": "error",
     "traceback": [
      "\u001b[1;31mThe Kernel crashed while executing code in the the current cell or a previous cell. Please review the code in the cell(s) to identify a possible cause of the failure. Click <a href='https://aka.ms/vscodeJupyterKernelCrash'>here</a> for more info. View Jupyter <a href='command:jupyter.viewOutput'>log</a> for further details."
     ]
    }
   ],
   "source": [
    "x = []\n",
    "y = []\n",
    "count = 1\n",
    "if not os.path.exists(f'{base_dir}_embeddings'):\n",
    "    os.mkdir(f'{base_dir}_embeddings')\n",
    "\n",
    "for pair in tqdm(new_combined_list):\n",
    "    img1 = pair[0] \n",
    "    img2 = pair[1]\n",
    "    if img1.endswith('.jpg')  and img2.endswith('jpg'):\n",
    "        img1_label = pair[0].split('-')[0]\n",
    "        img2_label = pair[1].split('-')[0]\n",
    "        img1_embedding = embedding_map[img1]\n",
    "        img2_embedding = embedding_map[img2]\n",
    "        embedding = np.concatenate((img1_embedding, img2_embedding), axis=0)\n",
    "        # print(embedding.shape)\n",
    "        label = img2_label==img1_label\n",
    "        # print(label)\n",
    "        # print(img2_label, img1_label)\n",
    "        np.save(f'{base_dir}_embeddings/{count}.npy',np.array([embedding,label]))\n",
    "        count+=1"
   ]
  },
  {
   "cell_type": "code",
   "execution_count": null,
   "id": "87b2ceae",
   "metadata": {},
   "outputs": [],
   "source": []
  },
  {
   "cell_type": "code",
   "execution_count": null,
   "id": "3c022daa",
   "metadata": {},
   "outputs": [],
   "source": []
  }
 ],
 "metadata": {
  "kernelspec": {
   "display_name": "tf",
   "language": "python",
   "name": "python3"
  },
  "language_info": {
   "codemirror_mode": {
    "name": "ipython",
    "version": 3
   },
   "file_extension": ".py",
   "mimetype": "text/x-python",
   "name": "python",
   "nbconvert_exporter": "python",
   "pygments_lexer": "ipython3",
   "version": "3.9.12"
  }
 },
 "nbformat": 4,
 "nbformat_minor": 5
}
